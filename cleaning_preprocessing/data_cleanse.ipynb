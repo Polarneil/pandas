{
 "cells": [
  {
   "cell_type": "markdown",
   "source": [
    "#### Thresholds for Dropping vs Imputing Missing Data\n",
    "* **Less than 5% Missing**\n",
    "    * Drop the rows or columns\n",
    "\n",
    "* **5% to 20% Missing**\n",
    "    * Impute using averages, medians, or other simple methods.\n",
    "\n",
    "* **More than 20% Missing**\n",
    "    * Advanced Imputation techniques (KNN, regression, or ML-based models) should be considered.\n",
    "\n",
    "* **Above 40% to 50% Missing**\n",
    "    * Evaluate Necessity of Feature.\n",
    "    * If the feature is crucial, try advanced imputation. Otherwise, consider dropping the entire column."
   ],
   "metadata": {
    "collapsed": false
   },
   "id": "a33d0fd8fdef7ddb"
  },
  {
   "cell_type": "code",
   "execution_count": 278,
   "id": "initial_id",
   "metadata": {
    "collapsed": true,
    "ExecuteTime": {
     "end_time": "2025-01-07T17:40:26.944885Z",
     "start_time": "2025-01-07T17:40:26.942274Z"
    }
   },
   "outputs": [],
   "source": [
    "import pandas as pd\n",
    "from sklearn.impute import KNNImputer"
   ]
  },
  {
   "cell_type": "code",
   "outputs": [],
   "source": [
    "titanic_df = pd.read_csv('../data/Titanic-Dataset.csv')"
   ],
   "metadata": {
    "collapsed": false,
    "ExecuteTime": {
     "end_time": "2025-01-07T17:40:27.336744Z",
     "start_time": "2025-01-07T17:40:27.333214Z"
    }
   },
   "id": "c16678d108291dea",
   "execution_count": 279
  },
  {
   "cell_type": "code",
   "outputs": [],
   "source": [
    "class CleanseData:\n",
    "    def __init__(self, df: pd.DataFrame):\n",
    "        self.df = df.copy()\n",
    "    \n",
    "    def snapshot(self):\n",
    "        \"\"\"\n",
    "        This method is used to provide a snapshot of the first few rows of data\n",
    "        \"\"\"\n",
    "        return self.df.head()\n",
    "    \n",
    "    def describe_data(self):\n",
    "        \"\"\"\n",
    "        This method is used to provide additional information and statistics about the dataset\n",
    "        \"\"\"\n",
    "        return self.df.info(), self.df.describe()\n",
    "    \n",
    "    @staticmethod\n",
    "    def define_categories(null_percentage: float):\n",
    "        \"\"\"\n",
    "        This method is used to classify columns with missing values into various groups based on the percentage of missing values in the column\n",
    "        \"\"\"\n",
    "        if null_percentage < .05:\n",
    "            return \"drop_row\"\n",
    "        elif null_percentage < .2:\n",
    "            return \"impute_median\"\n",
    "        elif null_percentage < .45:\n",
    "            return \"impute_knn\"\n",
    "        else:\n",
    "            return \"drop_column\"\n",
    "        \n",
    "    def drop_row(self, column_name: str, index_list: list):\n",
    "        \"\"\"\n",
    "        This method is used to drop rows from the df when missing column values are less than 5%\n",
    "        \"\"\"\n",
    "        for index in index_list:\n",
    "            self.df.drop(index, inplace=True)\n",
    "            \n",
    "        print(f\" - Dropped {len(index_list)} rows from the '{column_name}' column of the dataframe\\n\")\n",
    "            \n",
    "        return self.df\n",
    "    \n",
    "    def impute_median(self, column_name: str, index_list: list):\n",
    "        \"\"\"\n",
    "        This method is used to fill NaN values with the median of the column when missing column values are less than 20% and greater than 5%\n",
    "        \"\"\"\n",
    "        median_value = self.df[column_name].median()\n",
    "        self.df[column_name] = self.df[column_name].fillna(median_value)\n",
    "        \n",
    "        print(f\" - Filled {len(index_list)} NaN values from column '{column_name}' with median value {median_value}\\n\") \n",
    "        \n",
    "        return self.df\n",
    "    \n",
    "    def impute_knn(self, column_name: str, index_list: list):\n",
    "        \"\"\"\n",
    "        This method imputes NaN values for specific rows in a column using K-Nearest Neighbors.\n",
    "        \"\"\"\n",
    "        # Extract the relevant column for imputation\n",
    "        temp_df = self.df[[column_name]].copy()\n",
    "    \n",
    "        # Apply KNN Imputer to the entire column\n",
    "        imputer = KNNImputer(n_neighbors=3)\n",
    "        imputed_values = imputer.fit_transform(temp_df)\n",
    "    \n",
    "        # Convert to DataFrame to preserve index\n",
    "        imputed_df = pd.DataFrame(imputed_values, columns=[column_name], index=temp_df.index)\n",
    "    \n",
    "        # Update only the rows specified by index_list\n",
    "        self.df.loc[index_list, column_name] = imputed_df.loc[index_list, column_name]\n",
    "        \n",
    "        print(f\" - Imputed {len(index_list)} NaN values from column '{column_name}' using K-Nearest neighbors algorithm\\n\")\n",
    "    \n",
    "        return self.df\n",
    "    \n",
    "    def drop_column(self, column_name: str, index_list: list):\n",
    "        \"\"\"\n",
    "        This method is used to drop columns from the df when missing column values are greater than 45%\n",
    "        \"\"\"\n",
    "        self.df.drop(columns=[column_name], inplace=True)\n",
    "        \n",
    "        print(f\" - Dropped column '{column_name}' containing {len(index_list)} NaN values\\n\")\n",
    "        \n",
    "        return self.df\n",
    "    \n",
    "    def handle_null(self):\n",
    "        \"\"\"\n",
    "        This method is used to handle NaN values in the dataframe\n",
    "        \"\"\"\n",
    "        # Drop duplicates\n",
    "        print(f\"DROPPING DUPLICATES...\\n\")\n",
    "        before_drop = len(self.df)\n",
    "        self.df = self.df.drop_duplicates()\n",
    "        after_drop = len(self.df)\n",
    "        print(f\"* Dropped {before_drop - after_drop} duplicate rows from dataframe.\\n\\n\")\n",
    "        \n",
    "        print(f\"BEGINNING TO HANDLE NULL VALUES...\\n\")\n",
    "        non_zero_dict = {}\n",
    "        \n",
    "        na_percentage = (self.df.isnull().sum() / len(self.df))\n",
    "        non_zero_na = na_percentage[na_percentage > 0]\n",
    "        \n",
    "        for index, value in non_zero_na.items():\n",
    "            non_zero_dict[index] = {\n",
    "                \"null_percent\": value,\n",
    "                \"category\": CleanseData.define_categories(value),\n",
    "                \"indexes\": self.df[self.df[index].isnull()].index.tolist()\n",
    "            }\n",
    "            print(f\"* Column '{index}' has {value * 100:.2f}% null values.\\n\")\n",
    "        \n",
    "        for key, value in non_zero_dict.items():\n",
    "            if value['category'] == \"drop_row\":\n",
    "                self.drop_row(column_name=key, index_list=value['indexes'])\n",
    "            elif value['category'] == \"impute_median\":\n",
    "                self.impute_median(column_name=key, index_list=value['indexes'])\n",
    "            elif value['category'] == \"impute_knn\":\n",
    "                self.impute_knn(column_name=key, index_list=value['indexes'])\n",
    "            else:\n",
    "                self.drop_column(column_name=key, index_list=value['indexes'])\n",
    "        \n",
    "    \n",
    "    def get_report(self):\n",
    "        self.handle_null()\n",
    "        return self.df"
   ],
   "metadata": {
    "collapsed": false,
    "ExecuteTime": {
     "end_time": "2025-01-07T17:41:02.534842Z",
     "start_time": "2025-01-07T17:41:02.522325Z"
    }
   },
   "id": "6c31136dfb97fea5",
   "execution_count": 284
  },
  {
   "cell_type": "code",
   "outputs": [],
   "source": [
    "cleanser = CleanseData(titanic_df)\n",
    "\n",
    "cleanser.get_report()"
   ],
   "metadata": {
    "collapsed": false
   },
   "id": "26541e7181d65996",
   "execution_count": null
  }
 ],
 "metadata": {
  "kernelspec": {
   "display_name": "Python 3",
   "language": "python",
   "name": "python3"
  },
  "language_info": {
   "codemirror_mode": {
    "name": "ipython",
    "version": 2
   },
   "file_extension": ".py",
   "mimetype": "text/x-python",
   "name": "python",
   "nbconvert_exporter": "python",
   "pygments_lexer": "ipython2",
   "version": "2.7.6"
  }
 },
 "nbformat": 4,
 "nbformat_minor": 5
}
