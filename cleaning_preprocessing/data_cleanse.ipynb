{
 "cells": [
  {
   "cell_type": "code",
   "execution_count": 3,
   "id": "initial_id",
   "metadata": {
    "collapsed": true,
    "ExecuteTime": {
     "end_time": "2025-01-06T23:35:05.116329Z",
     "start_time": "2025-01-06T23:35:05.113349Z"
    }
   },
   "outputs": [],
   "source": [
    "import pandas as pd"
   ]
  },
  {
   "cell_type": "code",
   "outputs": [],
   "source": [
    "df = pd.read_csv('../data/Titanic-Dataset.csv')"
   ],
   "metadata": {
    "collapsed": false,
    "ExecuteTime": {
     "end_time": "2025-01-06T23:35:51.939288Z",
     "start_time": "2025-01-06T23:35:51.930901Z"
    }
   },
   "id": "c16678d108291dea",
   "execution_count": 4
  },
  {
   "cell_type": "code",
   "outputs": [],
   "source": [
    "class CleanseData:\n",
    "    def __init__(self, df: pd.DataFrame):\n",
    "        self.df = df.copy()\n",
    "    \n",
    "    def snapshot(self):\n",
    "        return self.df.head()\n",
    "    \n",
    "    def describe_data(self):\n",
    "        return self.df.info(), self.df.describe()\n",
    "    \n",
    "    def clean_data(self):\n",
    "        self.df = self.df.drop_duplicates()\n",
    "        na_percentage = (self.df.isnull().sum() / len(self.df)) * 100\n",
    "        non_zero_na = na_percentage[na_percentage > 0]\n",
    "        \n",
    "        non_zero_dict = {}\n",
    "        \n",
    "        for index, value in non_zero_na.items():\n",
    "            non_zero_dict[index] = value\n",
    "        \n",
    "        return non_zero_dict\n",
    "    \n",
    "    def get_report(self):\n",
    "        return self.clean_data()"
   ],
   "metadata": {
    "collapsed": false,
    "ExecuteTime": {
     "end_time": "2025-01-07T05:42:37.101963Z",
     "start_time": "2025-01-07T05:42:37.098500Z"
    }
   },
   "id": "6c31136dfb97fea5",
   "execution_count": 57
  },
  {
   "cell_type": "code",
   "outputs": [
    {
     "data": {
      "text/plain": "{'Age': 19.865319865319865,\n 'Cabin': 77.10437710437711,\n 'Embarked': 0.22446689113355783}"
     },
     "execution_count": 58,
     "metadata": {},
     "output_type": "execute_result"
    }
   ],
   "source": [
    "cleanser = CleanseData(df)\n",
    "\n",
    "cleanser.get_report()"
   ],
   "metadata": {
    "collapsed": false,
    "ExecuteTime": {
     "end_time": "2025-01-07T05:42:38.472724Z",
     "start_time": "2025-01-07T05:42:38.466044Z"
    }
   },
   "id": "26541e7181d65996",
   "execution_count": 58
  },
  {
   "cell_type": "markdown",
   "source": [
    "#### Thresholds for Dropping vs Imputing Missing Data\n",
    "* **Less than 5% Missing**\n",
    "    * Drop the rows or columns\n",
    "\n",
    "* **5% to 20% Missing**\n",
    "    * Impute using averages, medians, or other simple methods.\n",
    "\n",
    "* **More than 20% Missing**\n",
    "    * Advanced Imputation techniques (KNN, regression, or ML-based models) should be considered.\n",
    "\n",
    "* **Above 40% to 50% Missing**\n",
    "    * Evaluate Necessity of Feature.\n",
    "    * If the feature is crucial, try advanced imputation. Otherwise, consider dropping the entire column."
   ],
   "metadata": {
    "collapsed": false
   },
   "id": "8d99080484ed4c36"
  },
  {
   "cell_type": "code",
   "outputs": [],
   "source": [],
   "metadata": {
    "collapsed": false
   },
   "id": "2cabfc8f4065cfab"
  }
 ],
 "metadata": {
  "kernelspec": {
   "display_name": "Python 3",
   "language": "python",
   "name": "python3"
  },
  "language_info": {
   "codemirror_mode": {
    "name": "ipython",
    "version": 2
   },
   "file_extension": ".py",
   "mimetype": "text/x-python",
   "name": "python",
   "nbconvert_exporter": "python",
   "pygments_lexer": "ipython2",
   "version": "2.7.6"
  }
 },
 "nbformat": 4,
 "nbformat_minor": 5
}
