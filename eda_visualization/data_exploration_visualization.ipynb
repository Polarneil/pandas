{
 "cells": [
  {
   "cell_type": "code",
   "execution_count": 103,
   "id": "initial_id",
   "metadata": {
    "collapsed": true,
    "ExecuteTime": {
     "end_time": "2025-01-07T20:56:33.689701Z",
     "start_time": "2025-01-07T20:56:33.688216Z"
    }
   },
   "outputs": [],
   "source": [
    "import pandas as pd\n",
    "import seaborn as sns\n",
    "import matplotlib.pyplot as plt\n",
    "import math\n",
    "import numpy as np"
   ]
  },
  {
   "cell_type": "code",
   "outputs": [],
   "source": [
    "iris_df = pd.read_csv('../data/Iris-Dataset.csv')"
   ],
   "metadata": {
    "collapsed": false,
    "ExecuteTime": {
     "end_time": "2025-01-07T20:56:34.668487Z",
     "start_time": "2025-01-07T20:56:34.665374Z"
    }
   },
   "id": "320262980b599251",
   "execution_count": 104
  },
  {
   "cell_type": "code",
   "outputs": [],
   "source": [
    "class EdaVisualization:\n",
    "    def __init__(self, df: pd.DataFrame):\n",
    "        self.df = df.copy()\n",
    "        self.categorized_df = self.df.copy()\n",
    "        self.correlation_df = self.df.copy()\n",
    "    \n",
    "    def snapshot(self):\n",
    "        return self.df.head()\n",
    "    \n",
    "    def describe(self):\n",
    "        return self.df.info()\n",
    "    \n",
    "    def mapping(self):\n",
    "        \"\"\"\n",
    "        This method is used to map categorical variables inside 'object' dtype columns to numerical variables\n",
    "        \n",
    "        Save changes to the categorized df in case we need to access the untouched df in the future (dynamic_pairplot method)\n",
    "        \"\"\"\n",
    "        for col in self.df.select_dtypes(include=['object']).columns:\n",
    "            self.categorized_df[col] = self.df[col].astype('category').cat.codes\n",
    "        return self.categorized_df\n",
    "    \n",
    "\n",
    "    def visualization(self):\n",
    "        sns.set(style=\"whitegrid\")\n",
    "        \n",
    "        # Calculate number of rows and columns for subplots\n",
    "        num_features = len(self.categorized_df.columns)\n",
    "        num_rows = math.ceil(num_features / 2)\n",
    "        num_cols = 2\n",
    "        \n",
    "        fig, axes = plt.subplots(num_rows, num_cols, figsize=(12, 5 * num_rows))\n",
    "        \n",
    "        # Flatten axes if more than one row\n",
    "        if num_rows > 1:\n",
    "            axes = axes.flatten()\n",
    "        else:\n",
    "            axes = np.array(axes).flatten()\n",
    "        \n",
    "        # Loop through columns and plot on respective subplot\n",
    "        for i, column in enumerate(self.categorized_df.columns):\n",
    "            sns.histplot(self.categorized_df[column], kde=True, ax=axes[i]).set(title=f\"{column.replace('_', ' ').title()} Distribution\")\n",
    "                    \n",
    "        # Hide unused subplots\n",
    "        for j in range(i + 1, len(axes)):\n",
    "            fig.delaxes(axes[j])\n",
    "    \n",
    "        plt.tight_layout()\n",
    "        plt.show()\n",
    "        \n",
    "    def dynamic_pairplot(self):\n",
    "        sns.set(style=\"whitegrid\")\n",
    "        \n",
    "        # Automatically detect non-numeric columns for hue\n",
    "        target_col = self.df.select_dtypes(exclude='number').columns\n",
    "                \n",
    "        # If a categorical column exists, use it as hue; otherwise, no hue\n",
    "        hue = target_col[0] if len(target_col) > 0 else None\n",
    "        \n",
    "        sns.pairplot(self.df, hue=hue, markers=[\"o\", \"s\", \"D\"])\n",
    "        plt.show()\n",
    "        \n",
    "    def correlation_matrix(self):\n",
    "        target_col = self.correlation_df.select_dtypes(exclude='number').columns\n",
    "        target_col = target_col[0] if len(target_col) > 0 else None\n",
    "        \n",
    "        correlation_matrix = self.correlation_df.drop(target_col, axis=1).corr()\n",
    "        \n",
    "        plt.figure(figsize=(8, 6))\n",
    "        \n",
    "        sns.heatmap(correlation_matrix, annot=True, cmap=\"coolwarm\", fmt='.2f', linewidths=0.5)\n",
    "        plt.title('Correlation Matrix')\n",
    "        plt.show()"
   ],
   "metadata": {
    "collapsed": false,
    "ExecuteTime": {
     "end_time": "2025-01-07T21:14:48.445896Z",
     "start_time": "2025-01-07T21:14:48.441291Z"
    }
   },
   "id": "d272fa6314c4a2d4",
   "execution_count": 164
  },
  {
   "cell_type": "code",
   "outputs": [],
   "source": [
    "visualization = EdaVisualization(iris_df)"
   ],
   "metadata": {
    "collapsed": false,
    "ExecuteTime": {
     "end_time": "2025-01-07T21:14:57.352397Z",
     "start_time": "2025-01-07T21:14:57.350591Z"
    }
   },
   "id": "9817b1b63b8fea36",
   "execution_count": 166
  },
  {
   "cell_type": "code",
   "outputs": [],
   "source": [
    "visualization.mapping()"
   ],
   "metadata": {
    "collapsed": false
   },
   "id": "594df922941563da",
   "execution_count": null
  },
  {
   "cell_type": "code",
   "outputs": [],
   "source": [
    "visualization.visualization()"
   ],
   "metadata": {
    "collapsed": false
   },
   "id": "26f23f583a3db225",
   "execution_count": null
  },
  {
   "cell_type": "code",
   "outputs": [],
   "source": [
    "visualization.dynamic_pairplot()"
   ],
   "metadata": {
    "collapsed": false
   },
   "id": "1eaafbf0453b4876",
   "execution_count": null
  },
  {
   "cell_type": "code",
   "outputs": [],
   "source": [
    "visualization.correlation_matrix()"
   ],
   "metadata": {
    "collapsed": false
   },
   "id": "2285248d42700b9d",
   "execution_count": null
  }
 ],
 "metadata": {
  "kernelspec": {
   "display_name": "Python 3",
   "language": "python",
   "name": "python3"
  },
  "language_info": {
   "codemirror_mode": {
    "name": "ipython",
    "version": 2
   },
   "file_extension": ".py",
   "mimetype": "text/x-python",
   "name": "python",
   "nbconvert_exporter": "python",
   "pygments_lexer": "ipython2",
   "version": "2.7.6"
  }
 },
 "nbformat": 4,
 "nbformat_minor": 5
}
